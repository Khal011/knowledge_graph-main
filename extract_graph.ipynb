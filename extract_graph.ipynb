{
 "cells": [
  {
   "cell_type": "markdown",
   "metadata": {},
   "source": [
    "## Setup"
   ]
  },
  {
   "cell_type": "code",
   "execution_count": 1,
   "metadata": {},
   "outputs": [
    {
     "name": "stdout",
     "output_type": "stream",
     "text": [
      "yo\n"
     ]
    }
   ],
   "source": [
    "print(\"yo\")"
   ]
  },
  {
   "cell_type": "code",
   "execution_count": 2,
   "metadata": {},
   "outputs": [],
   "source": [
    "import pandas as pd\n",
    "import numpy as np\n",
    "import os\n",
    "from langchain.document_loaders import PyPDFLoader, UnstructuredPDFLoader, PyPDFium2Loader\n",
    "from langchain.document_loaders import PyPDFDirectoryLoader, DirectoryLoader\n",
    "from langchain.text_splitter import RecursiveCharacterTextSplitter\n",
    "from pathlib import Path\n",
    "import random\n",
    "\n",
    "## input data directory\n",
    "data_dir = \"cureus\"\n",
    "inputdirectory = Path(f\"./data_input/{data_dir}/\")\n",
    "## This is where the output csv files will be written\n",
    "out_dir = data_dir\n",
    "outputdirectory = Path(f\"./data_output/{out_dir}\")"
   ]
  },
  {
   "cell_type": "markdown",
   "metadata": {},
   "source": [
    "## Load Documents"
   ]
  },
  {
   "cell_type": "code",
   "execution_count": 3,
   "metadata": {},
   "outputs": [
    {
     "name": "stderr",
     "output_type": "stream",
     "text": [
      "100%|██████████| 1/1 [00:02<00:00,  2.63s/it]"
     ]
    },
    {
     "name": "stdout",
     "output_type": "stream",
     "text": [
      "[Document(metadata={'source': 'data_input\\\\cureus\\\\Dien.DevelopBBE2008-pages.txt'}, page_content='Fax +41 61 306 12 34 E-Mail karger@karger.ch www.karger.com\\n\\nOriginal Paper\\n\\nBrain Behav Evol 2008;71:15–31\\n\\nDOI: 10.1159/000108608\\n\\nEarly Diencephalon Development in\\n\\nAlligator\\n\\nMichael B. Pritz\\n\\nDepartment of Neurological Surgery, Indiana University School of Medicine, Indianapolis, Ind. , USA noted further parcellation of the synencephalon into an an- terior and posterior component, whereas others have not. Notwithstanding differe     nces as to whether the synencepha- lon is a single unit or not, these detailed analyses in reptiles\\n\\n(Alligator) , birds (chick), and mammals (humans), suggest that the initial pattern of early diencephalon development in amniotes is similar.\\n\\nCopyright © 2007 S. Karger AG, Basel\\n\\nIntroduction\\n\\nA number of approaches have been used to unravel the organization and evolution of the forebrain in vertebrates [Nieuwenhuys, 1998b]. Varying degrees of success have been achieved through an analysis of neuronal cell types and aggregates and their respective properties in a wide variety of adult animals [Nieuwenhuys, 1998b; Striedter, 2005] usually selecting representative species in a given class. An alternative approach has been to analyze devel- opment, with the hope that certain features might be un- covered which would have remained obscure had only adult animals been examined [Puelles, 1995].'), Document(metadata={'source': 'data_input\\\\cureus\\\\Dien.DevelopBBE2008-pages.txt'}, page_content='In analyzing the forebrain, the diencephalon was cho- sen rather than the telencephalon because its properties in nearly every aspect are seemingly less complex than that of the telencephalon [Sherman and Guillery, 2006]. It is believed that the diencephalon shares common char- acters in all vertebrates during early development and changes occur later in time which are specific for that group or species [Bergquist, 1952; Bergquist and Källén, 1954; Rubenstein et al., 1994]. However, some researchers\\n\\nKey Words\\n\\nAlligator mississipiensis\\n\\n!\\n\\nDevelopment\\n\\n!\\n\\nDiencephalon\\n\\n!\\n\\nEvolution\\n\\n!\\n\\nForebrain\\n\\n!\\n\\nOntogeny\\n\\n!\\n\\nPretectum\\n\\n!\\n\\nReptiles\\n\\nAbstract'), Document(metadata={'source': 'data_input\\\\cureus\\\\Dien.DevelopBBE2008-pages.txt'}, page_content='Key Words\\n\\nAlligator mississipiensis\\n\\n!\\n\\nDevelopment\\n\\n!\\n\\nDiencephalon\\n\\n!\\n\\nEvolution\\n\\n!\\n\\nForebrain\\n\\n!\\n\\nOntogeny\\n\\n!\\n\\nPretectum\\n\\n!\\n\\nReptiles\\n\\nAbstract\\n\\nDiencephalon development was investigated in a reptilian embryo, Alligator mississipiensis , beginning at a single com- partment stage and continuing until internal subdivisions were present within major units. A variety of morphological techniques were used: immunocytochemistry, histochemis- try, and cresyl violet staining. The diencephalon begins as a single unit. In the transverse domain, the diencephalon sub- sequently divides into two: the parencephalon and the syn- encephalon. The parencephalon then splits into the paren- cephalon anterior and parencephalon posterior. Still later, the synencephalon undergoes parcellation into the synen- cephalon anterior and synencephalon posterior. Subse- quently, internal subdivisions occur in each of these four compartments. When the diencephalon has become subdi- vided into two compartments and continuing until internal subdivisions are present in each unit, a longitudinal border separating a dorsal, presumed alar plate, from a ventral, pre- sumed basal plate, was seen. No clear cut subunits were reli- ably identified in the telencephalon or secondary prosen- cephalon during this period of early development in Alligator.'), Document(metadata={'source': 'data_input\\\\cureus\\\\Dien.DevelopBBE2008-pages.txt'}, page_content='Early diencephalon development in birds (chick) and mam- mals (humans) follows a similar pattern. Specifically, a single diencephalic compartment divides into two zones: the par- encephalon and synencephalon. Subsequently, the paren- cephalon becomes subdivided into an anterior and poste- rior unit. Some studies, including the present one, have\\n\\nReceived: December 19, 2006\\n\\nReturned for revision: March 6, 2007\\n\\nAccepted after revision: May 9, 2007\\n\\nPublished online: September 20, 2007\\n\\nM.B. Pritz\\n\\nDepartment of Neurological Surgery\\n\\nIndiana University School of Medicine, 545 Barnhill Drive, Emerson 141\\n\\nIndianapolis, IN 46202\\n\\n5124 (USA)\\n\\nTel. +1 317 274 5728, Fax. +1 317 274 7351, E-Mail mpritz@iupui.edu\\n\\n© 200  S. Karger AG, Basel\\n\\n0006–8977/08/0711–0015$24.50/0\\n\\nAccessible online at:\\n\\nwww.karger.com/bbe\\n\\n7\\n\\nPritz\\n\\nBrain Behav Evol 2008;71:15–31 16 have questioned whether such a phylotypic stage exists for body plans in vertebrates [Richardson et al., 1997]. It remains to be seen whether or not such a phylotypic stage is present for developing vertebrate brains.'), Document(metadata={'source': 'data_input\\\\cureus\\\\Dien.DevelopBBE2008-pages.txt'}, page_content='Most developmental studies have focused on just a few species [Richardson et al., 1997] concentrating on mouse as a representative mammal and chick as an example for birds. However, because mammals and birds diverged early in phylogeny [Kumar and Hedges, 1998; Benton, 1999], using representatives solely from these two classes would not distinguish between similarities of the features in question based on inheritance from a common ances- tor versus independent evolution of these traits [Pritz, 2005].\\n\\nCrocodilians are the reptilian group most closely re- lated to birds [Whetstone and Martin, 1979; Hedges, 1994]. As a representative of this order, the American al- ligator, Alligator mississipiensis , was selected because it is relatively available and its developmental stages have been well characterized [Ferguson, 1985].\\n\\nThis report details early diencephalon development in\\n\\nAlligator before overt compartmentalization begins and continues until the major histogenetic zones have be- come internally subdivided. Morphological techniques that proved successful in analyzing early hindbrain de- velopment in Alligator [Pritz, 1999] were applied to the forebrain. These observations form the basis of this re- port.'), Document(metadata={'source': 'data_input\\\\cureus\\\\Dien.DevelopBBE2008-pages.txt'}, page_content='Two questions were addressed. First, what morpho- logic features identify divisions of the diencephalon at early stages of development in Alligator ? Second, how do these observations in Alligator compare with early dien- cephalon development in other vertebrates? Only by doc- umenting that the organization of the Alligator dienceph- alon early in development is similar to that found in birds, mammals, and other vertebrates can later divergences in morphology be of potential biological significance. Spe- cifically, it was hypothesized that early diencephalon de- velopment in Alligator would follow the pattern described for birds [Vaage, 1969; Puelles et al., 1987; Larsen et al., 2001 – chick] and mammals [Müller and O’Rahilly, 1997 – humans]. If so, changes occurring later in ontog- eny could be identified as the key events that produced the adult diencephalon in Alligator and perhaps other reptiles. These developmental events in Alligator could then be compared with similar ontogenetic changes in diencephalon development in birds and mammals. Armed with these stage specific morphologic data, the molecular events responsible for these findings could be investigated.'), Document(metadata={'source': 'data_input\\\\cureus\\\\Dien.DevelopBBE2008-pages.txt'}, page_content='The present analysis did not attempt to determine whether the observed diencephalic subdivisions repre- sented and satisfied the developmentally significant cri- teria enumerated by others [Keynes and Lumsden, 1990; Lumsden, 1990]. Similarly, these experiments did not in- vestigate gene or transcription factor expression because it was first necessary to identify the individual units and their appearance during ontogeny before investigating other properties. Furthermore, unlike the hindbrain where rhombomeres can readily be seen even in un- stained whole mount preparations [Pritz, 1999], identifi- cation of transversal diencephalic subdivisions proved much more elusive.\\n\\nMaterials and Methods\\n\\nProcedures and protocols listed below were reviewed and ap- proved by the Indiana University School of Medicine animal care committee. These details conform to the National Institute of Health guidelines.\\n\\nAnimals\\n\\nAlligator eggs were obtained from the Rockefeller Wildlife Refuge in Grand Chenier, Louisiana. The location of the embryo was marked and the egg positioned with the embryo on top. Eggs were placed in a 2: 1 mixture of vermiculite and water in an incu- bator at a temperature of 30 ° C.'), Document(metadata={'source': 'data_input\\\\cureus\\\\Dien.DevelopBBE2008-pages.txt'}, page_content='Embryos were sacrificed between stages 2 and 16 [Ferguson, 1985]. Viable embryos were harvested by making an opening in the eggshell using fine scissors under magnification from an op- erating microscope. A variety of fixatives were used for the vari- ous morphological stains. However, best results for histochemical and immunocytochemical experiments were obtained with 100% methanol as the fixative in which embryos could be stored for many months at –70 ° C. Embryos were first staged [Ferguson, 1985] and then dissected free from surrounding tissues using a fine tungsten needle, microscissors, and jeweler’s forceps. Except at the earliest stages, brains were divided at the isthmus and the forebrain and midbrain were processed as a single unit.\\n\\nIn brains stored at –70 ° C, best results for histochemistry and immunocytochemistry were achieved by gradual tissue re-warm- ing: –20 ° C (30–60 min); 4 ° C (30–60 min); and then room tem- perature ( 6 30 min) prior to embedding. Brains stained for cresyl violet were placed in a variety of fixatives: 10% formalin; 4% para- formaldehyde; 4% glutaraldehyde; or Bouin’s solution (0.9% pic- ric acid, 9% formaldehyde).\\n\\nTissue Processing\\n\\nEmbedding and sectioning of tissue processed for peanut ag- glutinin histochemistry or immunocytochemistry was identical to the methods described previously [Pritz, 1999]. These tech- niques are summarized briefly.'), Document(metadata={'source': 'data_input\\\\cureus\\\\Dien.DevelopBBE2008-pages.txt'}, page_content='Brains were embedded in gelatin or albumin-gelatin. Blocks that were processed for histochemistry or immunocytochemistry were placed overnight in 30% sucrose in sodium phosphate buffer (PBS; 0.1 M at pH 7.2). At least 4h before sectioning, blocks were')]\n"
     ]
    },
    {
     "name": "stderr",
     "output_type": "stream",
     "text": [
      "\n"
     ]
    }
   ],
   "source": [
    "## Dir PDF Loader\n",
    "# loader = PyPDFDirectoryLoader(inputdirectory)\n",
    "## File Loader\n",
    "# loader = PyPDFLoader(\"./data/MedicalDocuments/orf-path_health-n1.pdf\")\n",
    "loader = DirectoryLoader(inputdirectory, show_progress=True)\n",
    "documents = loader.load()\n",
    "\n",
    "splitter = RecursiveCharacterTextSplitter(\n",
    "    chunk_size=1500,\n",
    "    chunk_overlap=150,\n",
    "    length_function=len,\n",
    "    is_separator_regex=False,\n",
    ")\n",
    "\n",
    "pages = splitter.split_documents(documents)\n",
    "print(pages)\n"
   ]
  },
  {
   "cell_type": "markdown",
   "metadata": {},
   "source": [
    "## Create a dataframe of all the chunks"
   ]
  },
  {
   "cell_type": "code",
   "execution_count": 4,
   "metadata": {},
   "outputs": [
    {
     "name": "stdout",
     "output_type": "stream",
     "text": [
      "(9, 3)\n",
      "                                                text  \\\n",
      "0  Fax 41 61 306 12 34 E-Mail kargerkarger.ch www...   \n",
      "\n",
      "                                            source  \\\n",
      "0  data_input\\cureus\\Dien.DevelopBBE2008-pages.txt   \n",
      "\n",
      "                           chunk_id  \n",
      "0  30663e108b0e44ada244bf0d2fbeacd5  \n"
     ]
    }
   ],
   "source": [
    "from helpers.df_helpers import documents2Dataframe\n",
    "\n",
    "df = documents2Dataframe(pages)\n",
    "print(df.shape)\n",
    "def clean_text(text):\n",
    "    # Replace newlines followed by letters with a space\n",
    "    if len(text) > 1:\n",
    "        cleaned_text = ''.join([text[i] if not (text[i] == '\\n' and text[i+1].isalnum()) else ' ' for i in range(len(text)-1)]) + text[-1]\n",
    "    else:\n",
    "        cleaned_text = text\n",
    "\n",
    "    # Remove remaining newlines\n",
    "    cleaned_text = cleaned_text.replace('\\n', ' ')\n",
    "\n",
    "    # Replace multiple spaces with a single space\n",
    "    cleaned_text = ' '.join(cleaned_text.split())\n",
    "\n",
    "    # Remove unwanted special characters\n",
    "    allowed_chars = set(\"abcdefghijklmnopqrstuvwxyzABCDEFGHIJKLMNOPQRSTUVWXYZ0123456789 .,;:!?\\\"'()-\")\n",
    "    cleaned_text = ''.join([char for char in cleaned_text if char in allowed_chars])\n",
    "\n",
    "    return cleaned_text\n",
    "\n",
    "# Apply the clean_text function to the 'content' column of the DataFrame\n",
    "df['text'] = df['text'].apply(clean_text)\n",
    "\n",
    "print(df.head())\n"
   ]
  },
  {
   "cell_type": "markdown",
   "metadata": {},
   "source": [
    "## Extract Concepts"
   ]
  },
  {
   "cell_type": "code",
   "execution_count": 5,
   "metadata": {},
   "outputs": [],
   "source": [
    "## This function uses the helpers/prompt function to extract concepts from text\n",
    "from helpers.df_helpers import df2Graph\n",
    "from helpers.df_helpers import graph2Df"
   ]
  },
  {
   "cell_type": "markdown",
   "metadata": {},
   "source": [
    "If regenerate is set to True then the dataframes are regenerated and Both the dataframes are written in the csv format so we dont have to calculate them again. \n",
    "\n",
    "        dfne = dataframe of edges\n",
    "\n",
    "        df = dataframe of chunks\n",
    "\n",
    "\n",
    "Else the dataframes are read from the output directory"
   ]
  },
  {
   "cell_type": "code",
   "execution_count": 6,
   "metadata": {},
   "outputs": [
    {
     "name": "stdout",
     "output_type": "stream",
     "text": [
      "Here is the extracted ontology of terms and their relations in JSON format:\n",
      "\n",
      "```\n",
      "[\n",
      "    {\n",
      "        \"node_1\": \"Alligator\",\n",
      "        \"node_2\": \"Diencephalon Development\",\n",
      "        \"edge\": \"The initial pattern of early diencephalon development in amniotes is similar, as seen in Alligator.\"\n",
      "    },\n",
      "    {\n",
      "        \"node_1\": \"Chick\",\n",
      "        \"node_2\": \"Diencephalon Development\",\n",
      "        \"edge\": \"Detailed analyses have been done in reptiles (Alligator), birds (chick), and mammals (humans) to study the initial pattern of early diencephalon development.\"\n",
      "    },\n",
      "    {\n",
      "        \"node_1\": \"Humans\",\n",
      "        \"node_2\": \"Diencephalon Development\",\n",
      "        \"edge\": \"Detailed analyses have been done in reptiles (Alligator), birds (chick), and mammals (humans) to study the initial pattern of early diencephalon development.\"\n",
      "    },\n",
      "    {\n",
      "        \"node_1\": \"Forebrain\",\n",
      "        \"node_2\": \"Organization\",\n",
      "        \"edge\": \"A number of approaches have been used to unravel the organization and evolution of the forebrain in vertebrates.\"\n",
      "    },\n",
      "    {\n",
      "        \"node_1\": \"Neuronal Cell Types\",\n",
      "        \"node_2\": \"Properties\",\n",
      "        \"edge\": \"An analysis of neuronal cell types and aggregates and their respective properties has been done in a wide variety of adult animals.\"\n",
      "    },\n",
      "    {\n",
      "        \"node_1\": \"Development\",\n",
      "        \"node_2\": \"Evolution\",\n",
      "        \"edge\": \"Analyzing development with the hope that certain features might be uncovered which would have remained obscure had only adult animals been examined.\"\n",
      "    }\n",
      "]\n",
      "```\n",
      "\n",
      "Note: The edge descriptions are brief summaries of the context and may not exactly match the original text.\n",
      "\n",
      "ERROR ### Here is the buggy response:  Here is the extracted ontology of terms and their relations in JSON format:\n",
      "\n",
      "```\n",
      "[\n",
      "    {\n",
      "        \"node_1\": \"Alligator\",\n",
      "        \"node_2\": \"Diencephalon Development\",\n",
      "        \"edge\": \"The initial pattern of early diencephalon development in amniotes is similar, as seen in Alligator.\"\n",
      "    },\n",
      "    {\n",
      "        \"node_1\": \"Chick\",\n",
      "        \"node_2\": \"Diencephalon Development\",\n",
      "        \"edge\": \"Detailed analyses have been done in reptiles (Alligator), birds (chick), and mammals (humans) to study the initial pattern of early diencephalon development.\"\n",
      "    },\n",
      "    {\n",
      "        \"node_1\": \"Humans\",\n",
      "        \"node_2\": \"Diencephalon Development\",\n",
      "        \"edge\": \"Detailed analyses have been done in reptiles (Alligator), birds (chick), and mammals (humans) to study the initial pattern of early diencephalon development.\"\n",
      "    },\n",
      "    {\n",
      "        \"node_1\": \"Forebrain\",\n",
      "        \"node_2\": \"Organization\",\n",
      "        \"edge\": \"A number of approaches have been used to unravel the organization and evolution of the forebrain in vertebrates.\"\n",
      "    },\n",
      "    {\n",
      "        \"node_1\": \"Neuronal Cell Types\",\n",
      "        \"node_2\": \"Properties\",\n",
      "        \"edge\": \"An analysis of neuronal cell types and aggregates and their respective properties has been done in a wide variety of adult animals.\"\n",
      "    },\n",
      "    {\n",
      "        \"node_1\": \"Development\",\n",
      "        \"node_2\": \"Evolution\",\n",
      "        \"edge\": \"Analyzing development with the hope that certain features might be uncovered which would have remained obscure had only adult animals been examined.\"\n",
      "    }\n",
      "]\n",
      "```\n",
      "\n",
      "Note: The edge descriptions are brief summaries of the context and may not exactly match the original text. \n",
      "\n",
      "\n"
     ]
    },
    {
     "ename": "ValueError",
     "evalue": "need at least one array to concatenate",
     "output_type": "error",
     "traceback": [
      "\u001b[1;31m---------------------------------------------------------------------------\u001b[0m",
      "\u001b[1;31mValueError\u001b[0m                                Traceback (most recent call last)",
      "Cell \u001b[1;32mIn[6], line 5\u001b[0m\n\u001b[0;32m      2\u001b[0m regenerate \u001b[38;5;241m=\u001b[39m \u001b[38;5;28;01mTrue\u001b[39;00m\n\u001b[0;32m      4\u001b[0m \u001b[38;5;28;01mif\u001b[39;00m regenerate:\n\u001b[1;32m----> 5\u001b[0m     concepts_list \u001b[38;5;241m=\u001b[39m \u001b[43mdf2Graph\u001b[49m\u001b[43m(\u001b[49m\u001b[43mdf\u001b[49m\u001b[43m,\u001b[49m\u001b[43m \u001b[49m\u001b[43mmodel\u001b[49m\u001b[38;5;241;43m=\u001b[39;49m\u001b[38;5;124;43m\"\u001b[39;49m\u001b[38;5;124;43mllama3:latest\u001b[39;49m\u001b[38;5;124;43m\"\u001b[39;49m\u001b[43m)\u001b[49m\n\u001b[0;32m      6\u001b[0m     dfg1 \u001b[38;5;241m=\u001b[39m graph2Df(concepts_list)\n\u001b[0;32m      7\u001b[0m     \u001b[38;5;28;01mif\u001b[39;00m \u001b[38;5;129;01mnot\u001b[39;00m os\u001b[38;5;241m.\u001b[39mpath\u001b[38;5;241m.\u001b[39mexists(outputdirectory):\n",
      "File \u001b[1;32mc:\\Users\\medkh\\Desktop\\Python\\knowledge_graph-main\\helpers\\df_helpers.py:60\u001b[0m, in \u001b[0;36mdf2Graph\u001b[1;34m(dataframe, model)\u001b[0m\n\u001b[0;32m     57\u001b[0m results \u001b[38;5;241m=\u001b[39m results\u001b[38;5;241m.\u001b[39mreset_index(drop\u001b[38;5;241m=\u001b[39m\u001b[38;5;28;01mTrue\u001b[39;00m)\n\u001b[0;32m     59\u001b[0m \u001b[38;5;66;03m## Flatten the list of lists to one single list of entities.\u001b[39;00m\n\u001b[1;32m---> 60\u001b[0m concept_list \u001b[38;5;241m=\u001b[39m \u001b[43mnp\u001b[49m\u001b[38;5;241;43m.\u001b[39;49m\u001b[43mconcatenate\u001b[49m\u001b[43m(\u001b[49m\u001b[43mresults\u001b[49m\u001b[43m)\u001b[49m\u001b[38;5;241m.\u001b[39mravel()\u001b[38;5;241m.\u001b[39mtolist()\n\u001b[0;32m     61\u001b[0m \u001b[38;5;28;01mreturn\u001b[39;00m concept_list\n",
      "File \u001b[1;32m<__array_function__ internals>:200\u001b[0m, in \u001b[0;36mconcatenate\u001b[1;34m(*args, **kwargs)\u001b[0m\n",
      "\u001b[1;31mValueError\u001b[0m: need at least one array to concatenate"
     ]
    }
   ],
   "source": [
    "## To regenerate the graph with LLM, set this to True\n",
    "regenerate = True\n",
    "\n",
    "if regenerate:\n",
    "    concepts_list = df2Graph(df, model=\"llama3:latest\")\n",
    "    dfg1 = graph2Df(concepts_list)\n",
    "    if not os.path.exists(outputdirectory):\n",
    "        os.makedirs(outputdirectory)\n",
    "    \n",
    "    dfg1.to_csv(outputdirectory/\"graph.csv\", sep=\"|\", index=False)\n",
    "    df.to_csv(outputdirectory/\"chunks.csv\", sep=\"|\", index=False)\n",
    "else:\n",
    "    dfg1 = pd.read_csv(outputdirectory/\"graph.csv\", sep=\"|\")\n",
    "\n",
    "dfg1.replace(\"\", np.nan, inplace=True)\n",
    "dfg1.dropna(subset=[\"node_1\", \"node_2\", 'edge'], inplace=True)\n",
    "dfg1['count'] = 4 \n",
    "## Increasing the weight of the relation to 4. \n",
    "## We will assign the weight of 1 when later the contextual proximity will be calculated.  \n"
   ]
  },
  {
   "cell_type": "markdown",
   "metadata": {},
   "source": [
    "## Calculating contextual proximity"
   ]
  },
  {
   "cell_type": "code",
   "execution_count": null,
   "metadata": {},
   "outputs": [
    {
     "data": {
      "text/html": [
       "<div>\n",
       "<style scoped>\n",
       "    .dataframe tbody tr th:only-of-type {\n",
       "        vertical-align: middle;\n",
       "    }\n",
       "\n",
       "    .dataframe tbody tr th {\n",
       "        vertical-align: top;\n",
       "    }\n",
       "\n",
       "    .dataframe thead th {\n",
       "        text-align: right;\n",
       "    }\n",
       "</style>\n",
       "<table border=\"1\" class=\"dataframe\">\n",
       "  <thead>\n",
       "    <tr style=\"text-align: right;\">\n",
       "      <th></th>\n",
       "      <th>node_1</th>\n",
       "      <th>node_2</th>\n",
       "      <th>chunk_id</th>\n",
       "      <th>count</th>\n",
       "      <th>edge</th>\n",
       "    </tr>\n",
       "  </thead>\n",
       "  <tbody>\n",
       "    <tr>\n",
       "      <th>5042</th>\n",
       "      <td>zhuang h</td>\n",
       "      <td>tsai hh</td>\n",
       "      <td>5044cb2035684913bd12d1965ed603c9,5044cb2035684...</td>\n",
       "      <td>6</td>\n",
       "      <td>contextual proximity</td>\n",
       "    </tr>\n",
       "    <tr>\n",
       "      <th>5044</th>\n",
       "      <td>|log2fc| &gt;2</td>\n",
       "      <td>3v-v vs 3v-d</td>\n",
       "      <td>2138215950d7499baea4bf39bdd15b16,2138215950d74...</td>\n",
       "      <td>2</td>\n",
       "      <td>contextual proximity</td>\n",
       "    </tr>\n",
       "    <tr>\n",
       "      <th>5045</th>\n",
       "      <td>|log2fc| &gt;2</td>\n",
       "      <td>3v-v vs 3v-d, e</td>\n",
       "      <td>2138215950d7499baea4bf39bdd15b16,2138215950d74...</td>\n",
       "      <td>2</td>\n",
       "      <td>contextual proximity</td>\n",
       "    </tr>\n",
       "    <tr>\n",
       "      <th>5048</th>\n",
       "      <td>|log2fc| &gt;2</td>\n",
       "      <td>c, d</td>\n",
       "      <td>2138215950d7499baea4bf39bdd15b16,2138215950d74...</td>\n",
       "      <td>2</td>\n",
       "      <td>contextual proximity</td>\n",
       "    </tr>\n",
       "    <tr>\n",
       "      <th>5065</th>\n",
       "      <td>|log2fc| &gt;2</td>\n",
       "      <td>significantly up-regulated genes, sig = true</td>\n",
       "      <td>2138215950d7499baea4bf39bdd15b16,2138215950d74...</td>\n",
       "      <td>2</td>\n",
       "      <td>contextual proximity</td>\n",
       "    </tr>\n",
       "  </tbody>\n",
       "</table>\n",
       "</div>"
      ],
      "text/plain": [
       "           node_1                                        node_2  \\\n",
       "5042     zhuang h                                       tsai hh   \n",
       "5044  |log2fc| >2                                  3v-v vs 3v-d   \n",
       "5045  |log2fc| >2                               3v-v vs 3v-d, e   \n",
       "5048  |log2fc| >2                                          c, d   \n",
       "5065  |log2fc| >2  significantly up-regulated genes, sig = true   \n",
       "\n",
       "                                               chunk_id  count  \\\n",
       "5042  5044cb2035684913bd12d1965ed603c9,5044cb2035684...      6   \n",
       "5044  2138215950d7499baea4bf39bdd15b16,2138215950d74...      2   \n",
       "5045  2138215950d7499baea4bf39bdd15b16,2138215950d74...      2   \n",
       "5048  2138215950d7499baea4bf39bdd15b16,2138215950d74...      2   \n",
       "5065  2138215950d7499baea4bf39bdd15b16,2138215950d74...      2   \n",
       "\n",
       "                      edge  \n",
       "5042  contextual proximity  \n",
       "5044  contextual proximity  \n",
       "5045  contextual proximity  \n",
       "5048  contextual proximity  \n",
       "5065  contextual proximity  "
      ]
     },
     "execution_count": 33,
     "metadata": {},
     "output_type": "execute_result"
    }
   ],
   "source": [
    "def contextual_proximity(df: pd.DataFrame) -> pd.DataFrame:\n",
    "    ## Melt the dataframe into a list of nodes\n",
    "    dfg_long = pd.melt(\n",
    "        df, id_vars=[\"chunk_id\"], value_vars=[\"node_1\", \"node_2\"], value_name=\"node\"\n",
    "    )\n",
    "    dfg_long.drop(columns=[\"variable\"], inplace=True)\n",
    "    # Self join with chunk id as the key will create a link between terms occuring in the same text chunk.\n",
    "    dfg_wide = pd.merge(dfg_long, dfg_long, on=\"chunk_id\", suffixes=(\"_1\", \"_2\"))\n",
    "    # drop self loops\n",
    "    self_loops_drop = dfg_wide[dfg_wide[\"node_1\"] == dfg_wide[\"node_2\"]].index\n",
    "    dfg2 = dfg_wide.drop(index=self_loops_drop).reset_index(drop=True)\n",
    "    ## Group and count edges.\n",
    "    dfg2 = (\n",
    "        dfg2.groupby([\"node_1\", \"node_2\"])\n",
    "        .agg({\"chunk_id\": [\",\".join, \"count\"]})\n",
    "        .reset_index()\n",
    "    )\n",
    "    dfg2.columns = [\"node_1\", \"node_2\", \"chunk_id\", \"count\"]\n",
    "    dfg2.replace(\"\", np.nan, inplace=True)\n",
    "    dfg2.dropna(subset=[\"node_1\", \"node_2\"], inplace=True)\n",
    "    # Drop edges with 1 count\n",
    "    dfg2 = dfg2[dfg2[\"count\"] != 1]\n",
    "    dfg2[\"edge\"] = \"contextual proximity\"\n",
    "    return dfg2\n",
    "\n",
    "\n",
    "dfg2 = contextual_proximity(dfg1)\n",
    "dfg2.tail()"
   ]
  },
  {
   "cell_type": "markdown",
   "metadata": {},
   "source": [
    "### Merge both the dataframes"
   ]
  },
  {
   "cell_type": "code",
   "execution_count": null,
   "metadata": {},
   "outputs": [
    {
     "data": {
      "text/html": [
       "<div>\n",
       "<style scoped>\n",
       "    .dataframe tbody tr th:only-of-type {\n",
       "        vertical-align: middle;\n",
       "    }\n",
       "\n",
       "    .dataframe tbody tr th {\n",
       "        vertical-align: top;\n",
       "    }\n",
       "\n",
       "    .dataframe thead th {\n",
       "        text-align: right;\n",
       "    }\n",
       "</style>\n",
       "<table border=\"1\" class=\"dataframe\">\n",
       "  <thead>\n",
       "    <tr style=\"text-align: right;\">\n",
       "      <th></th>\n",
       "      <th>node_1</th>\n",
       "      <th>node_2</th>\n",
       "      <th>chunk_id</th>\n",
       "      <th>edge</th>\n",
       "      <th>count</th>\n",
       "    </tr>\n",
       "  </thead>\n",
       "  <tbody>\n",
       "    <tr>\n",
       "      <th>0</th>\n",
       "      <td>100 mg/kg body weight</td>\n",
       "      <td>embryonic forebrain</td>\n",
       "      <td>879a4722e54b4b7e97cbce18440da9f7,879a4722e54b4...</td>\n",
       "      <td>contextual proximity</td>\n",
       "      <td>3</td>\n",
       "    </tr>\n",
       "    <tr>\n",
       "      <th>1</th>\n",
       "      <td>100 mg/kg body weight</td>\n",
       "      <td>intraperitoneal injection</td>\n",
       "      <td>879a4722e54b4b7e97cbce18440da9f7</td>\n",
       "      <td>represents the method by which tamoxifen was a...</td>\n",
       "      <td>4</td>\n",
       "    </tr>\n",
       "    <tr>\n",
       "      <th>2</th>\n",
       "      <td>3v progenitors</td>\n",
       "      <td>astrocyte progenitors</td>\n",
       "      <td>c36bd013662b43d2bb71a4d173abeb2d,c36bd013662b4...</td>\n",
       "      <td>contextual proximity</td>\n",
       "      <td>3</td>\n",
       "    </tr>\n",
       "    <tr>\n",
       "      <th>3</th>\n",
       "      <td>3v progenitors</td>\n",
       "      <td>eyfp-expressing cells</td>\n",
       "      <td>c36bd013662b43d2bb71a4d173abeb2d,c36bd013662b4...</td>\n",
       "      <td>labeled cells in the 3V wall showed radial gli...</td>\n",
       "      <td>7</td>\n",
       "    </tr>\n",
       "    <tr>\n",
       "      <th>4</th>\n",
       "      <td>3v wall</td>\n",
       "      <td>astrocytes</td>\n",
       "      <td>8a3132a7d3ef4227b0f0981fa3445ba7,3c3cf4f29d994...</td>\n",
       "      <td>In this study, we explored the fate specificat...</td>\n",
       "      <td>20</td>\n",
       "    </tr>\n",
       "    <tr>\n",
       "      <th>...</th>\n",
       "      <td>...</td>\n",
       "      <td>...</td>\n",
       "      <td>...</td>\n",
       "      <td>...</td>\n",
       "      <td>...</td>\n",
       "    </tr>\n",
       "    <tr>\n",
       "      <th>1382</th>\n",
       "      <td>zhuang h</td>\n",
       "      <td>tsai hh</td>\n",
       "      <td>5044cb2035684913bd12d1965ed603c9,5044cb2035684...</td>\n",
       "      <td>co-authored by,contextual proximity</td>\n",
       "      <td>10</td>\n",
       "    </tr>\n",
       "    <tr>\n",
       "      <th>1383</th>\n",
       "      <td>|log2fc| &gt;2</td>\n",
       "      <td>3v-v vs 3v-d</td>\n",
       "      <td>2138215950d7499baea4bf39bdd15b16,2138215950d74...</td>\n",
       "      <td>contextual proximity</td>\n",
       "      <td>2</td>\n",
       "    </tr>\n",
       "    <tr>\n",
       "      <th>1384</th>\n",
       "      <td>|log2fc| &gt;2</td>\n",
       "      <td>3v-v vs 3v-d, e</td>\n",
       "      <td>2138215950d7499baea4bf39bdd15b16,2138215950d74...</td>\n",
       "      <td>A threshold of |log2FC| &gt; 2 is used to filter ...</td>\n",
       "      <td>6</td>\n",
       "    </tr>\n",
       "    <tr>\n",
       "      <th>1385</th>\n",
       "      <td>|log2fc| &gt;2</td>\n",
       "      <td>c, d</td>\n",
       "      <td>2138215950d7499baea4bf39bdd15b16,2138215950d74...</td>\n",
       "      <td>contextual proximity</td>\n",
       "      <td>2</td>\n",
       "    </tr>\n",
       "    <tr>\n",
       "      <th>1386</th>\n",
       "      <td>|log2fc| &gt;2</td>\n",
       "      <td>significantly up-regulated genes, sig = true</td>\n",
       "      <td>2138215950d7499baea4bf39bdd15b16,2138215950d74...</td>\n",
       "      <td>contextual proximity</td>\n",
       "      <td>2</td>\n",
       "    </tr>\n",
       "  </tbody>\n",
       "</table>\n",
       "<p>1387 rows × 5 columns</p>\n",
       "</div>"
      ],
      "text/plain": [
       "                     node_1                                        node_2  \\\n",
       "0     100 mg/kg body weight                           embryonic forebrain   \n",
       "1     100 mg/kg body weight                     intraperitoneal injection   \n",
       "2            3v progenitors                         astrocyte progenitors   \n",
       "3            3v progenitors                         eyfp-expressing cells   \n",
       "4                   3v wall                                    astrocytes   \n",
       "...                     ...                                           ...   \n",
       "1382               zhuang h                                       tsai hh   \n",
       "1383            |log2fc| >2                                  3v-v vs 3v-d   \n",
       "1384            |log2fc| >2                               3v-v vs 3v-d, e   \n",
       "1385            |log2fc| >2                                          c, d   \n",
       "1386            |log2fc| >2  significantly up-regulated genes, sig = true   \n",
       "\n",
       "                                               chunk_id  \\\n",
       "0     879a4722e54b4b7e97cbce18440da9f7,879a4722e54b4...   \n",
       "1                      879a4722e54b4b7e97cbce18440da9f7   \n",
       "2     c36bd013662b43d2bb71a4d173abeb2d,c36bd013662b4...   \n",
       "3     c36bd013662b43d2bb71a4d173abeb2d,c36bd013662b4...   \n",
       "4     8a3132a7d3ef4227b0f0981fa3445ba7,3c3cf4f29d994...   \n",
       "...                                                 ...   \n",
       "1382  5044cb2035684913bd12d1965ed603c9,5044cb2035684...   \n",
       "1383  2138215950d7499baea4bf39bdd15b16,2138215950d74...   \n",
       "1384  2138215950d7499baea4bf39bdd15b16,2138215950d74...   \n",
       "1385  2138215950d7499baea4bf39bdd15b16,2138215950d74...   \n",
       "1386  2138215950d7499baea4bf39bdd15b16,2138215950d74...   \n",
       "\n",
       "                                                   edge  count  \n",
       "0                                  contextual proximity      3  \n",
       "1     represents the method by which tamoxifen was a...      4  \n",
       "2                                  contextual proximity      3  \n",
       "3     labeled cells in the 3V wall showed radial gli...      7  \n",
       "4     In this study, we explored the fate specificat...     20  \n",
       "...                                                 ...    ...  \n",
       "1382                co-authored by,contextual proximity     10  \n",
       "1383                               contextual proximity      2  \n",
       "1384  A threshold of |log2FC| > 2 is used to filter ...      6  \n",
       "1385                               contextual proximity      2  \n",
       "1386                               contextual proximity      2  \n",
       "\n",
       "[1387 rows x 5 columns]"
      ]
     },
     "execution_count": 34,
     "metadata": {},
     "output_type": "execute_result"
    }
   ],
   "source": [
    "dfg = pd.concat([dfg1, dfg2], axis=0)\n",
    "dfg = (\n",
    "    dfg.groupby([\"node_1\", \"node_2\"])\n",
    "    .agg({\"chunk_id\": \",\".join, \"edge\": ','.join, 'count': 'sum'})\n",
    "    .reset_index()\n",
    ")\n",
    "dfg"
   ]
  },
  {
   "cell_type": "markdown",
   "metadata": {},
   "source": [
    "## Calculate the NetworkX Graph"
   ]
  },
  {
   "cell_type": "code",
   "execution_count": null,
   "metadata": {},
   "outputs": [
    {
     "data": {
      "text/plain": [
       "(317,)"
      ]
     },
     "execution_count": 35,
     "metadata": {},
     "output_type": "execute_result"
    }
   ],
   "source": [
    "nodes = pd.concat([dfg['node_1'], dfg['node_2']], axis=0).unique()\n",
    "nodes.shape"
   ]
  },
  {
   "cell_type": "code",
   "execution_count": null,
   "metadata": {},
   "outputs": [],
   "source": [
    "import networkx as nx\n",
    "G = nx.Graph()\n",
    "\n",
    "## Add nodes to the graph\n",
    "for node in nodes:\n",
    "    G.add_node(\n",
    "        str(node)\n",
    "    )\n",
    "\n",
    "## Add edges to the graph\n",
    "for index, row in dfg.iterrows():\n",
    "    G.add_edge(\n",
    "        str(row[\"node_1\"]),\n",
    "        str(row[\"node_2\"]),\n",
    "        title=row[\"edge\"],\n",
    "        weight=row['count']/4\n",
    "    )"
   ]
  },
  {
   "cell_type": "markdown",
   "metadata": {},
   "source": [
    "### Calculate communities for coloring the nodes"
   ]
  },
  {
   "cell_type": "code",
   "execution_count": null,
   "metadata": {},
   "outputs": [
    {
     "name": "stdout",
     "output_type": "stream",
     "text": [
      "Number of Communities =  31\n",
      "[['100 mg/kg body weight', 'abdominal cavity', 'abdominal fluids', 'cs-cdf-cg-pre vector', 'electrical pulses', 'embryonic forebrain', 'glass micropipette', 'hgfap-creert2;ai14 transgenic mice', 'hgfap-gfp plasmid', 'icr pregnant female mice', 'intraperitoneal injection', 'manually injected lentivirus', 'mice were perfusion-fixed', 'p14', 'plasmid dna solution', 'time points as indicated', 'warm saline', 'while the embryos were still in the uterus'], ['3v or lv', '3v progenitors', '3v wall', '3v wall at e17.5', 'ai14', 'ai14 transgenic mice', 'aldh1l1', 'aldh1l1+ cells', 'aqp4', 'aquaporin-4', 'astrocyte', 'astrocyte features in the dorsal part of the diencephalon', 'astrocyte lineage', 'astrocyte progenitors', 'astrocyte progenitors with various morphologies', 'astrocyte proliferation', 'astrocyte-like cells', 'astrocyte-like cells distributed across the entire forebrain', 'astrocyte-specific expression', 'astrocyte-specific hgfap-creert2; ai14', 'astrocytes', 'astrocytes derived from region‑specific radial glia', 'astrocytic endfeet', 'astrogenesis', 'astrogliosis', 'blbp', 'blood vessels', 'blood-brain barrier structure and cerebral blood flow regulation', 'brain', 'brain glue', 'cd31', 'cerebellum', 'cerebral blood flow', 'cerebral cortex', 'collagen iv', 'commissural projections', 'coroinal sections', 'coronal sections', 'cortex', 'cortical development', 'cortical glial cell development', 'cortical protoplasmic astrocytes', 'creert2', 'developing diencephalon', 'developmental stages', 'diencephalon', 'differentially expressed genes in dorsal 3v wall', 'dorsal', 'dorsal 3v wall', 'dorsal diencephalon', 'dorsal region', 'e14.5 embryos', 'e14.5 mouse embryos', 'e17.5', 'early time point', 'egfp+ astrocytes', 'egfp+ astrocytes and collagen iv+ blood vessels', 'egfp+ cells at p21', 'egfp+ cells labeled in the 3v wall', 'egfp+ radial glial−like cells', 'egfp-expressing cells', 'electroporation with hgfap-egfp plasmid at e14.5', 'embryonic brains', 'embryonic diencephalon', 'endfeet of cortical astrocytes', 'eyept', 'eyfp+ cells', 'eyfp-expressing cells', 'eyfp-labeled radial glia', 'forebrain midline glia', 'genetic fate mapping analysis', 'gfap', 'gfap+ alpha tanycytes', 'gfp', 'granular neurons in the dentate gyrus', 'gs', 'gs+ astrocytes', 'hgfap (glial fibrillary acidic protein)', 'hgfap promoter', 'hgfap-egfp lentivirus', 'hgfap-egfp plasmid', 'hgfap-egfp-expressing cells', 'hgfap-egfp-labeled cells', 'hgfap-egfp-labeled cells in the 3v wall', 'hippocampal formation', 'hoechst staining', 'hoechst staining (ho)', 'hypothalamus', 'iafp+ radial glial−like cells', 'iba1', 'iba1+ microglia', 'immunostaining', 'immunostaining with anti-aldh1l1 antibody', 'immunostaining with anti-nfia antibody', 'immunostaining with anti-ng2 or anti-olig2 antibodies', 'isoform 2 of aldehyde dehydrogenase family 1 member l1 (aldh1l1)', 'iue', 'lineage tracing', 'long extended basal processes into the parenchyma', 'lv', 'lv wall', 'markers for astrocytes (blbp and aldh1l1)', 'mounting medium', 'mouse brains', 'neun', 'neun+ neurons', 'neural precursor cells', 'neural transcription factor nfia', 'neurodegenerative diseases', 'neuron-like cells', 'neuronal-like cells', 'neurons in hypothalamus', 'nfia', 'ng2', 'ng2 glia', 'olig2', 'oligodendrocytes', 'p1', 'p14 hgfap-creert2; ai14(tdt)', 'p21', 'p7', 'pcna', 'plasmid', 'plasmid experiments', 'plasmids with specific genes', 'postnatal hypothalamus', 'primary antibodies', 'progenitors in the 3v wall electroporated with the hgfap-egfp plasmid or transduced with the hgfap-egfp lentivirus', 'progeny of radial glia', 'protoplasmic astrocytes', 'radial glia', 'radial glia (located in the lower region along the third ventricle wall)', 'radial glia (located in the upper region along the third ventricle wall)', 'radial glia based on iue', 'radial glia-derived astrocytes', 'radial glial (tanycyte-like) morphology in the ventral diencephalon', 'radial glial cells', 'radial glial cells from dorsal vz', 'radial glial cells from ventral vz', 'radial glial morphology', 'radial migration', 'region above the 3v induced by tamoxifen at e16.5', 'reporter expression', 'rna sequencing', 's100β', 'secondary antibodies', 'section from iue at p21', 'sections', 'sections from e17.5 mouse brains', 'slides', 'sox2', 'spatial domains', 'spatial domains in both the spinal cord and other regions', 'subtypes of ventral astrocytes', 'tdt+ astrocytes', 'tdt+ cells', 'thalamus', 'thalamus that exhibit astrocytic morphology', 'third ventricle', 'vascular endothelium', 'ven-tral 3v wall, dorsal lv wall', 'ventral 3v wall', 'ventral astrocytes', 'ventral region', 'ventral region of the diencephalon', 'ventricular wall of lv', 'washes', 'weak expression of nifa'], ['3v-d', '3v-v', 'gbx2', 'id3', 'lv-d', 'slc17a6', 'wif1'], ['3v-d, lv-d', '3v-v vs 3v-d', '3v-v vs 3v-d, e', '3v-v vs 3v-d, h', 'c', 'c, d', 'd volcano plots', 'e', 'fdr <0.01', 'grey, sig = false', 'gsea analysis', 'gsea analysis, g', 'gsea analysis, h', 'light blue, sig = true', 'nonsignificant genes, sig = false', 'percentages of variation explained by principal components', 'pink, sig = true', 'positive regulation of astrocyte development', 'positive regulation of astrogenesis', 'red, sig = true', 'significantly down-regulated genes', 'significantly down-regulated genes, sig = true', 'significantly up-regulated genes, sig = true', '|log2fc| >2'], ['abdominal wall', 'skin'], ['alvarez-bolado g', 'deneen b', 'didkovsky n', 'gauthier as', 'ge wp', 'gong s', 'gronostajski rm', 'haddad-tóvolli r', 'hu ny', 'jan ly', 'jan yn', 'kagawa y', 'liu ys', 'miller fd', 'miyazaki h', 'richards lj', 'scham b u', 'shu t'], ['astrocytes and disease: a neurodevelopmental per-spective', 'brambilla r', 'creative commons licence', 'developmental genetics of vertebrate glial-cell specification', 'fuentealba lc', 'gallo v', 'glial development: the crossroads of regeneration and repair in the cns', 'he c', 'kriegstein ar', 'li h', 'material', 'molofsky av', 'muroyama y', 'novel insight into glial biology and diseases', 'regional astrocyte allocation regulates cns synaptogenesis and repair', 'rowitch dh', 'specification of astrocytes by bhlh protein scl in a restricted region of the', 'taveira-marques r', 'the contribution of astrocytes to the neuroinflamma-tory response in multiple sclerosis and experimental autoimmune encephalomyelitis', 'tsai hh', 'zhuang h'], ['astrogenesis in the p2 progenitor domain of the spinal cord', 'cross-repressive interactions between scl and olig2'], ['cerebellar astrocytes', 'complement c3/c3ar axis', 'microglia', 'normal develpment', 'retinal astrocytes', 'spatiotemporal emergence'], ['combinatorial expression of pax6 and nkx6.1', 'region-specific subtypes of ventral astrocytes'], ['concentrated by centrifugation', 'virus-containing culture supernatants'], ['conditions', 'understanding of astrocyte lineage development'], ['development', 'injected embryos'], ['e0.5', 'exact embryonic time-point', 'first population of astrocytes distributed along the zona incerta', 'hgfap-creert2', 'icr mice', 'induction of creer-dependent recombination', 'tamoxifen', 'transgenic mice', 'wild-type c57bl/6j mice'], ['egf and fgf', 'gfap+ alpha tanycytes proliferate in response to intracerebral infusion of'], ['embryonic and adult neural stem cells', 'kriegstein a'], ['ensemble mouse reference genome grcm38.p6', 'mapped reads'], ['ganat ym', 'multilineage precursors and neural stem cells'], ['generation of astrocytes', 'ventral spinal cord'], ['glioma cells', 'viral infection'], ['hek293t cells', 'lentivirus'], ['hgfap', 'radial glia in the cortical vz'], ['hgfap-egfp lentiviral vector', 'packaging plasmids (pmdl, vsvg, and prev)'], ['high-throughput cre reporting system', 'madisen l'], ['hochstim c', 'positionally distinct astrocyte subtypes'], ['home cage', 'pregnant mice'], ['illumina pe150 platform', 'rna-seq libraries'], ['levison sw', 'oligodendrocytes and astrocytes'], ['magavi s', 'pyramidal neurons and protoplasmic astrocytes'], ['noctor sc', 'symmetric and asymmetric division zones'], ['orderly developmental program', 'tiotemporal pattern']]\n"
     ]
    }
   ],
   "source": [
    "communities_generator = nx.community.girvan_newman(G)\n",
    "top_level_communities = next(communities_generator)\n",
    "next_level_communities = next(communities_generator)\n",
    "communities = sorted(map(sorted, next_level_communities))\n",
    "print(\"Number of Communities = \", len(communities))\n",
    "print(communities)"
   ]
  },
  {
   "cell_type": "markdown",
   "metadata": {},
   "source": [
    "### Create a dataframe for community colors"
   ]
  },
  {
   "cell_type": "code",
   "execution_count": null,
   "metadata": {},
   "outputs": [
    {
     "data": {
      "text/html": [
       "<div>\n",
       "<style scoped>\n",
       "    .dataframe tbody tr th:only-of-type {\n",
       "        vertical-align: middle;\n",
       "    }\n",
       "\n",
       "    .dataframe tbody tr th {\n",
       "        vertical-align: top;\n",
       "    }\n",
       "\n",
       "    .dataframe thead th {\n",
       "        text-align: right;\n",
       "    }\n",
       "</style>\n",
       "<table border=\"1\" class=\"dataframe\">\n",
       "  <thead>\n",
       "    <tr style=\"text-align: right;\">\n",
       "      <th></th>\n",
       "      <th>node</th>\n",
       "      <th>color</th>\n",
       "      <th>group</th>\n",
       "    </tr>\n",
       "  </thead>\n",
       "  <tbody>\n",
       "    <tr>\n",
       "      <th>0</th>\n",
       "      <td>100 mg/kg body weight</td>\n",
       "      <td>#9b57db</td>\n",
       "      <td>1</td>\n",
       "    </tr>\n",
       "    <tr>\n",
       "      <th>1</th>\n",
       "      <td>abdominal cavity</td>\n",
       "      <td>#9b57db</td>\n",
       "      <td>1</td>\n",
       "    </tr>\n",
       "    <tr>\n",
       "      <th>2</th>\n",
       "      <td>abdominal fluids</td>\n",
       "      <td>#9b57db</td>\n",
       "      <td>1</td>\n",
       "    </tr>\n",
       "    <tr>\n",
       "      <th>3</th>\n",
       "      <td>cs-cdf-cg-pre vector</td>\n",
       "      <td>#9b57db</td>\n",
       "      <td>1</td>\n",
       "    </tr>\n",
       "    <tr>\n",
       "      <th>4</th>\n",
       "      <td>electrical pulses</td>\n",
       "      <td>#9b57db</td>\n",
       "      <td>1</td>\n",
       "    </tr>\n",
       "    <tr>\n",
       "      <th>...</th>\n",
       "      <td>...</td>\n",
       "      <td>...</td>\n",
       "      <td>...</td>\n",
       "    </tr>\n",
       "    <tr>\n",
       "      <th>312</th>\n",
       "      <td>pyramidal neurons and protoplasmic astrocytes</td>\n",
       "      <td>#db579c</td>\n",
       "      <td>29</td>\n",
       "    </tr>\n",
       "    <tr>\n",
       "      <th>313</th>\n",
       "      <td>noctor sc</td>\n",
       "      <td>#57dba3</td>\n",
       "      <td>30</td>\n",
       "    </tr>\n",
       "    <tr>\n",
       "      <th>314</th>\n",
       "      <td>symmetric and asymmetric division zones</td>\n",
       "      <td>#57dba3</td>\n",
       "      <td>30</td>\n",
       "    </tr>\n",
       "    <tr>\n",
       "      <th>315</th>\n",
       "      <td>orderly developmental program</td>\n",
       "      <td>#6757db</td>\n",
       "      <td>31</td>\n",
       "    </tr>\n",
       "    <tr>\n",
       "      <th>316</th>\n",
       "      <td>tiotemporal pattern</td>\n",
       "      <td>#6757db</td>\n",
       "      <td>31</td>\n",
       "    </tr>\n",
       "  </tbody>\n",
       "</table>\n",
       "<p>317 rows × 3 columns</p>\n",
       "</div>"
      ],
      "text/plain": [
       "                                              node    color  group\n",
       "0                            100 mg/kg body weight  #9b57db      1\n",
       "1                                 abdominal cavity  #9b57db      1\n",
       "2                                 abdominal fluids  #9b57db      1\n",
       "3                             cs-cdf-cg-pre vector  #9b57db      1\n",
       "4                                electrical pulses  #9b57db      1\n",
       "..                                             ...      ...    ...\n",
       "312  pyramidal neurons and protoplasmic astrocytes  #db579c     29\n",
       "313                                      noctor sc  #57dba3     30\n",
       "314        symmetric and asymmetric division zones  #57dba3     30\n",
       "315                  orderly developmental program  #6757db     31\n",
       "316                            tiotemporal pattern  #6757db     31\n",
       "\n",
       "[317 rows x 3 columns]"
      ]
     },
     "execution_count": 38,
     "metadata": {},
     "output_type": "execute_result"
    }
   ],
   "source": [
    "import seaborn as sns\n",
    "palette = \"hls\"\n",
    "\n",
    "## Now add these colors to communities and make another dataframe\n",
    "def colors2Community(communities) -> pd.DataFrame:\n",
    "    ## Define a color palette\n",
    "    p = sns.color_palette(palette, len(communities)).as_hex()\n",
    "    random.shuffle(p)\n",
    "    rows = []\n",
    "    group = 0\n",
    "    for community in communities:\n",
    "        color = p.pop()\n",
    "        group += 1\n",
    "        for node in community:\n",
    "            rows += [{\"node\": node, \"color\": color, \"group\": group}]\n",
    "    df_colors = pd.DataFrame(rows)\n",
    "    return df_colors\n",
    "\n",
    "\n",
    "colors = colors2Community(communities)\n",
    "colors"
   ]
  },
  {
   "cell_type": "markdown",
   "metadata": {},
   "source": [
    "### Add colors to the graph"
   ]
  },
  {
   "cell_type": "code",
   "execution_count": null,
   "metadata": {},
   "outputs": [],
   "source": [
    "for index, row in colors.iterrows():\n",
    "    G.nodes[row['node']]['group'] = row['group']\n",
    "    G.nodes[row['node']]['color'] = row['color']\n",
    "    G.nodes[row['node']]['size'] = G.degree[row['node']]"
   ]
  },
  {
   "cell_type": "code",
   "execution_count": null,
   "metadata": {},
   "outputs": [
    {
     "ename": "KeyError",
     "evalue": "'weight'",
     "output_type": "error",
     "traceback": [
      "\u001b[1;31m---------------------------------------------------------------------------\u001b[0m",
      "\u001b[1;31mKeyError\u001b[0m                                  Traceback (most recent call last)",
      "Cell \u001b[1;32mIn[41], line 17\u001b[0m\n\u001b[0;32m     15\u001b[0m \u001b[38;5;66;03m# Assuming G is your networkx graph\u001b[39;00m\n\u001b[0;32m     16\u001b[0m \u001b[38;5;28;01mfor\u001b[39;00m edge \u001b[38;5;129;01min\u001b[39;00m G\u001b[38;5;241m.\u001b[39medges(data\u001b[38;5;241m=\u001b[39m\u001b[38;5;28;01mTrue\u001b[39;00m):\n\u001b[1;32m---> 17\u001b[0m     net\u001b[38;5;241m.\u001b[39madd_edge(edge[\u001b[38;5;241m0\u001b[39m], edge[\u001b[38;5;241m1\u001b[39m], title\u001b[38;5;241m=\u001b[39medge[\u001b[38;5;241m2\u001b[39m][\u001b[38;5;124m'\u001b[39m\u001b[38;5;124mtitle\u001b[39m\u001b[38;5;124m'\u001b[39m], weight\u001b[38;5;241m=\u001b[39m\u001b[43medge\u001b[49m\u001b[43m[\u001b[49m\u001b[38;5;241;43m2\u001b[39;49m\u001b[43m]\u001b[49m\u001b[43m[\u001b[49m\u001b[38;5;124;43m'\u001b[39;49m\u001b[38;5;124;43mweight\u001b[39;49m\u001b[38;5;124;43m'\u001b[39;49m\u001b[43m]\u001b[49m)\n\u001b[0;32m     19\u001b[0m \u001b[38;5;66;03m# Add nodes with attributes\u001b[39;00m\n\u001b[0;32m     20\u001b[0m \u001b[38;5;28;01mfor\u001b[39;00m node \u001b[38;5;129;01min\u001b[39;00m G\u001b[38;5;241m.\u001b[39mnodes(data\u001b[38;5;241m=\u001b[39m\u001b[38;5;28;01mTrue\u001b[39;00m):\n",
      "\u001b[1;31mKeyError\u001b[0m: 'weight'"
     ]
    }
   ],
   "source": [
    "from pyvis.network import Network\n",
    "import webbrowser\n",
    "\n",
    "graph_output_directory = \"./docs/index.html\"\n",
    "\n",
    "net = Network(\n",
    "    notebook=False,\n",
    "    cdn_resources=\"remote\",\n",
    "    height=\"900px\",\n",
    "    width=\"100%\",\n",
    "    select_menu=True,\n",
    "    filter_menu=False,\n",
    ")\n",
    "\n",
    "# Assuming G is your networkx graph\n",
    "net.from_nx(G)\n",
    "net.force_atlas_2based(central_gravity=0.015, gravity=-31)\n",
    "net.show_buttons(filter_=[\"physics\"])\n",
    "\n",
    "# Generate HTML content\n",
    "html_content = net.generate_html()\n",
    "\n",
    "# Write the HTML content with UTF-8 encoding\n",
    "with open(graph_output_directory, 'w', encoding='utf-8') as file:\n",
    "    file.write(html_content)\n",
    "\n",
    "# Optionally open the file in the browser\n",
    "webbrowser.open(graph_output_directory)\n"
   ]
  },
  {
   "cell_type": "code",
   "execution_count": null,
   "metadata": {},
   "outputs": [],
   "source": []
  }
 ],
 "metadata": {
  "kernelspec": {
   "display_name": "Python 3 (ipykernel)",
   "language": "python",
   "name": "python3"
  },
  "language_info": {
   "codemirror_mode": {
    "name": "ipython",
    "version": 3
   },
   "file_extension": ".py",
   "mimetype": "text/x-python",
   "name": "python",
   "nbconvert_exporter": "python",
   "pygments_lexer": "ipython3",
   "version": "3.11.0"
  }
 },
 "nbformat": 4,
 "nbformat_minor": 4
}
